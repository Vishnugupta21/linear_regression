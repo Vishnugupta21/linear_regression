{
  "cells": [
    {
      "cell_type": "code",
      "execution_count": 1,
      "metadata": {
        "gather": {
          "logged": 1693891185847
        }
      },
      "outputs": [],
      "source": [
        "from azureml.core import Workspace, Experiment, Environment\n",
        "from azureml.train.automl import AutoMLConfig\n",
        "from azureml.pipeline.core import Pipeline\n",
        "from azureml.pipeline.steps import AutoMLStep\n",
        "from azureml.core import Dataset,Datastore"
      ]
    },
    {
      "cell_type": "code",
      "execution_count": 2,
      "metadata": {
        "gather": {
          "logged": 1693891189736
        },
        "jupyter": {
          "outputs_hidden": false,
          "source_hidden": false
        },
        "nteract": {
          "transient": {
            "deleting": false
          }
        }
      },
      "outputs": [],
      "source": [
        "def getAMLWorkspace(name=\"your_workspace_name\", subscription_id=\"your_subscription_id\", resource_group=\"your_resource_group\"):\n",
        "    try:\n",
        "        ws = Workspace.from_config()\n",
        "    except Exception as ex:\n",
        "        ws = Workspace.get(name=name,\n",
        "               subscription_id=subscription_id,\n",
        "               resource_group=resource_group)\n",
        "    return ws"
      ]
    },
    {
      "cell_type": "code",
      "execution_count": 3,
      "metadata": {
        "gather": {
          "logged": 1693891195037
        },
        "jupyter": {
          "outputs_hidden": false,
          "source_hidden": false
        },
        "nteract": {
          "transient": {
            "deleting": false
          }
        }
      },
      "outputs": [],
      "source": [
        "# Define your Azure Machine Learning workspace\n",
        "workspace = getAMLWorkspace()\n",
        "\n",
        "# Create a new experiment\n",
        "experiment = Experiment(workspace, \"timeseries_automl_experiment\")\n",
        "\n",
        "# Define the environment to run AutoML\n",
        "environment = Environment.get(workspace=workspace, name=\"AzureML-AutoML\")\n",
        "\n",
        "datastore = Datastore.get(workspace,\"inputdata\")"
      ]
    },
    {
      "cell_type": "markdown",
      "metadata": {
        "nteract": {
          "transient": {
            "deleting": false
          }
        }
      },
      "source": [
        "## Data Preprocessing"
      ]
    },
    {
      "cell_type": "code",
      "execution_count": 6,
      "metadata": {
        "gather": {
          "logged": 1693891625454
        },
        "jupyter": {
          "outputs_hidden": false,
          "source_hidden": false
        },
        "nteract": {
          "transient": {
            "deleting": false
          }
        }
      },
      "outputs": [
        {
          "name": "stderr",
          "output_type": "stream",
          "text": [
            "/anaconda/envs/azureml_py38/lib/python3.8/site-packages/azureml/data/dataset_factory.py:374: UserWarning: Ambiguous datetime formats inferred for columns ['DateTime'] are resolved as \"month-day\". Desired format can be specified by `set_column_types`.\n",
            "  warnings.warn(('Ambiguous datetime formats inferred for columns {} are resolved as \"month-day\". '\n"
          ]
        },
        {
          "data": {
            "text/html": [
              "<div>\n",
              "<style scoped>\n",
              "    .dataframe tbody tr th:only-of-type {\n",
              "        vertical-align: middle;\n",
              "    }\n",
              "\n",
              "    .dataframe tbody tr th {\n",
              "        vertical-align: top;\n",
              "    }\n",
              "\n",
              "    .dataframe thead th {\n",
              "        text-align: right;\n",
              "    }\n",
              "</style>\n",
              "<table border=\"1\" class=\"dataframe\">\n",
              "  <thead>\n",
              "    <tr style=\"text-align: right;\">\n",
              "      <th></th>\n",
              "      <th>hist_WindSpeed10m</th>\n",
              "      <th>solcast_forecast_windSpeed</th>\n",
              "      <th>Power</th>\n",
              "    </tr>\n",
              "  </thead>\n",
              "  <tbody>\n",
              "    <tr>\n",
              "      <th>count</th>\n",
              "      <td>7200.000000</td>\n",
              "      <td>7200.000000</td>\n",
              "      <td>7200.000000</td>\n",
              "    </tr>\n",
              "    <tr>\n",
              "      <th>mean</th>\n",
              "      <td>4.480153</td>\n",
              "      <td>4.448831</td>\n",
              "      <td>40.911204</td>\n",
              "    </tr>\n",
              "    <tr>\n",
              "      <th>std</th>\n",
              "      <td>2.350875</td>\n",
              "      <td>2.218417</td>\n",
              "      <td>31.674646</td>\n",
              "    </tr>\n",
              "    <tr>\n",
              "      <th>min</th>\n",
              "      <td>0.100000</td>\n",
              "      <td>0.700000</td>\n",
              "      <td>0.000000</td>\n",
              "    </tr>\n",
              "    <tr>\n",
              "      <th>25%</th>\n",
              "      <td>2.600000</td>\n",
              "      <td>2.720000</td>\n",
              "      <td>11.391667</td>\n",
              "    </tr>\n",
              "    <tr>\n",
              "      <th>50%</th>\n",
              "      <td>3.900000</td>\n",
              "      <td>4.020000</td>\n",
              "      <td>36.370833</td>\n",
              "    </tr>\n",
              "    <tr>\n",
              "      <th>75%</th>\n",
              "      <td>6.100000</td>\n",
              "      <td>5.790000</td>\n",
              "      <td>69.016667</td>\n",
              "    </tr>\n",
              "    <tr>\n",
              "      <th>max</th>\n",
              "      <td>12.000000</td>\n",
              "      <td>12.430000</td>\n",
              "      <td>99.891667</td>\n",
              "    </tr>\n",
              "  </tbody>\n",
              "</table>\n",
              "</div>"
            ],
            "text/plain": [
              "       hist_WindSpeed10m  solcast_forecast_windSpeed        Power\n",
              "count        7200.000000                 7200.000000  7200.000000\n",
              "mean            4.480153                    4.448831    40.911204\n",
              "std             2.350875                    2.218417    31.674646\n",
              "min             0.100000                    0.700000     0.000000\n",
              "25%             2.600000                    2.720000    11.391667\n",
              "50%             3.900000                    4.020000    36.370833\n",
              "75%             6.100000                    5.790000    69.016667\n",
              "max            12.000000                   12.430000    99.891667"
            ]
          },
          "execution_count": 6,
          "metadata": {},
          "output_type": "execute_result"
        }
      ],
      "source": [
        "dataset = Dataset.Tabular.from_delimited_files(path = [(datastore, \"timeSeriesSampleData.csv\")])\n",
        "base_df = dataset.to_pandas_dataframe()\n",
        "#base_df\n",
        "base_df = base_df.dropna(subset=[\"DateTime\"]) \n",
        "base_df\n",
        "import pandas as pd\n",
        "base_df.set_index(pd.DatetimeIndex(base_df[\"DateTime\"]), inplace=True)\n",
        "base_df = base_df[[\"hist_WindSpeed10m\",\"solcast_forecast_windSpeed\",\"Power\"]]\n",
        "df = base_df[base_df.index < \"2023-07-01 00:00:00\"]\n",
        "df.describe()"
      ]
    },
    {
      "cell_type": "code",
      "execution_count": 7,
      "metadata": {
        "gather": {
          "logged": 1693891647881
        },
        "jupyter": {
          "outputs_hidden": false,
          "source_hidden": false
        },
        "nteract": {
          "transient": {
            "deleting": false
          }
        }
      },
      "outputs": [
        {
          "data": {
            "text/html": [
              "<div>\n",
              "<style scoped>\n",
              "    .dataframe tbody tr th:only-of-type {\n",
              "        vertical-align: middle;\n",
              "    }\n",
              "\n",
              "    .dataframe tbody tr th {\n",
              "        vertical-align: top;\n",
              "    }\n",
              "\n",
              "    .dataframe thead th {\n",
              "        text-align: right;\n",
              "    }\n",
              "</style>\n",
              "<table border=\"1\" class=\"dataframe\">\n",
              "  <thead>\n",
              "    <tr style=\"text-align: right;\">\n",
              "      <th></th>\n",
              "      <th>hist_WindSpeed10m</th>\n",
              "      <th>solcast_forecast_windSpeed</th>\n",
              "      <th>Power</th>\n",
              "    </tr>\n",
              "    <tr>\n",
              "      <th>DateTime</th>\n",
              "      <th></th>\n",
              "      <th></th>\n",
              "      <th></th>\n",
              "    </tr>\n",
              "  </thead>\n",
              "  <tbody>\n",
              "    <tr>\n",
              "      <th>2021-01-06 00:00:00</th>\n",
              "      <td>3.1</td>\n",
              "      <td>3.36</td>\n",
              "      <td>23.758333</td>\n",
              "    </tr>\n",
              "    <tr>\n",
              "      <th>2021-01-06 01:00:00</th>\n",
              "      <td>3.0</td>\n",
              "      <td>3.35</td>\n",
              "      <td>24.300000</td>\n",
              "    </tr>\n",
              "    <tr>\n",
              "      <th>2021-01-06 02:00:00</th>\n",
              "      <td>2.9</td>\n",
              "      <td>3.37</td>\n",
              "      <td>15.766667</td>\n",
              "    </tr>\n",
              "    <tr>\n",
              "      <th>2021-01-06 03:00:00</th>\n",
              "      <td>2.8</td>\n",
              "      <td>3.40</td>\n",
              "      <td>7.791667</td>\n",
              "    </tr>\n",
              "    <tr>\n",
              "      <th>2021-01-06 04:00:00</th>\n",
              "      <td>3.2</td>\n",
              "      <td>3.54</td>\n",
              "      <td>7.358333</td>\n",
              "    </tr>\n",
              "  </tbody>\n",
              "</table>\n",
              "</div>"
            ],
            "text/plain": [
              "                     hist_WindSpeed10m  solcast_forecast_windSpeed      Power\n",
              "DateTime                                                                     \n",
              "2021-01-06 00:00:00                3.1                        3.36  23.758333\n",
              "2021-01-06 01:00:00                3.0                        3.35  24.300000\n",
              "2021-01-06 02:00:00                2.9                        3.37  15.766667\n",
              "2021-01-06 03:00:00                2.8                        3.40   7.791667\n",
              "2021-01-06 04:00:00                3.2                        3.54   7.358333"
            ]
          },
          "execution_count": 7,
          "metadata": {},
          "output_type": "execute_result"
        }
      ],
      "source": [
        "df.head()"
      ]
    },
    {
      "cell_type": "code",
      "execution_count": 8,
      "metadata": {
        "gather": {
          "logged": 1693891653914
        },
        "jupyter": {
          "outputs_hidden": false,
          "source_hidden": false
        },
        "nteract": {
          "transient": {
            "deleting": false
          }
        }
      },
      "outputs": [
        {
          "data": {
            "text/plain": [
              "hist_WindSpeed10m             0\n",
              "solcast_forecast_windSpeed    0\n",
              "Power                         0\n",
              "dtype: int64"
            ]
          },
          "execution_count": 8,
          "metadata": {},
          "output_type": "execute_result"
        }
      ],
      "source": [
        "df.isna().sum()"
      ]
    },
    {
      "cell_type": "code",
      "execution_count": 9,
      "metadata": {
        "gather": {
          "logged": 1693891666783
        },
        "jupyter": {
          "outputs_hidden": false,
          "source_hidden": false
        },
        "nteract": {
          "transient": {
            "deleting": false
          }
        }
      },
      "outputs": [
        {
          "name": "stderr",
          "output_type": "stream",
          "text": [
            "\"datastore.upload_files\" is deprecated after version 1.0.69. Please use \"FileDatasetFactory.upload_directory\" instead. See Dataset API change notice at https://aka.ms/dataset-deprecation.\n"
          ]
        },
        {
          "name": "stdout",
          "output_type": "stream",
          "text": [
            "Uploading an estimated of 1 files\n",
            "Uploading ./preprocessed.csv\n",
            "Uploaded ./preprocessed.csv, 1 files out of an estimated total of 1\n",
            "Uploaded 1 files\n"
          ]
        }
      ],
      "source": [
        "df.to_csv(\"preprocessed.csv\")\n",
        "datastore.upload_files(files = [\"./preprocessed.csv\"],\n",
        "                                target_path = \"preprocessed.csv\",\n",
        "                                overwrite = True,\n",
        "                                show_progress = True)\n",
        "training_dataset = Dataset.Tabular.from_delimited_files(path = [(datastore, \"preprocessed.csv\")])"
      ]
    },
    {
      "cell_type": "markdown",
      "metadata": {
        "nteract": {
          "transient": {
            "deleting": false
          }
        }
      },
      "source": [
        "## Compute Cluster Initialization"
      ]
    },
    {
      "cell_type": "code",
      "execution_count": 10,
      "metadata": {
        "gather": {
          "logged": 1693892056877
        },
        "jupyter": {
          "outputs_hidden": false,
          "source_hidden": false
        },
        "nteract": {
          "transient": {
            "deleting": false
          }
        }
      },
      "outputs": [
        {
          "name": "stdout",
          "output_type": "stream",
          "text": [
            "Found existing cluster, use it.\n",
            "Succeeded\n",
            "AmlCompute wait for completion finished\n",
            "\n",
            "Minimum number of nodes requested have been provisioned\n"
          ]
        }
      ],
      "source": [
        "from azureml.core.compute import ComputeTarget, AmlCompute\n",
        "from azureml.core.compute_target import ComputeTargetException\n",
        "\n",
        "# Choose a name for your CPU cluster\n",
        "amlcompute_cluster_name = \"democlustereastus\"\n",
        "\n",
        "# Verify that cluster does not exist already\n",
        "try:\n",
        "    compute_target = ComputeTarget(workspace=workspace, name=amlcompute_cluster_name)\n",
        "    print(\"Found existing cluster, use it.\")\n",
        "except ComputeTargetException:\n",
        "    compute_config = AmlCompute.provisioning_configuration(\n",
        "        vm_size=\"STANDARD_DS12_V2\", max_nodes=6\n",
        "    )\n",
        "    compute_target = ComputeTarget.create(workspace, amlcompute_cluster_name, compute_config)\n",
        "\n",
        "compute_target.wait_for_completion(show_output=True)"
      ]
    },
    {
      "cell_type": "markdown",
      "metadata": {
        "nteract": {
          "transient": {
            "deleting": false
          }
        }
      },
      "source": [
        "## Setup Experiment configurations"
      ]
    },
    {
      "cell_type": "code",
      "execution_count": 12,
      "metadata": {
        "gather": {
          "logged": 1693892256141
        },
        "jupyter": {
          "outputs_hidden": false,
          "source_hidden": false
        },
        "nteract": {
          "transient": {
            "deleting": false
          }
        }
      },
      "outputs": [],
      "source": [
        "from azureml.automl.core.forecasting_parameters import ForecastingParameters\n",
        "\n",
        "forecast_horizon = 24\n",
        "forecasting_parameters = ForecastingParameters(\n",
        "    time_column_name=\"DateTime\",\n",
        "    forecast_horizon=forecast_horizon,\n",
        "    freq=\"H\",  # Set the forecast frequency to be hourly,\n",
        "    cv_step_size=\"auto\",\n",
        ")"
      ]
    },
    {
      "cell_type": "code",
      "execution_count": 13,
      "metadata": {
        "gather": {
          "logged": 1693892256946
        },
        "jupyter": {
          "outputs_hidden": false,
          "source_hidden": false
        },
        "nteract": {
          "transient": {
            "deleting": false
          }
        }
      },
      "outputs": [],
      "source": [
        "# Configure AutoML settings\n",
        "automl_config = AutoMLConfig(task='forecasting',\n",
        "                             primary_metric='normalized_root_mean_squared_error',\n",
        "                             experiment_timeout_minutes=30,\n",
        "                             training_data=training_dataset,  # Replace with your training dataset reference\n",
        "                             label_column_name='Power',\n",
        "                             compute_target=compute_target,  # Replace with your compute target\n",
        "                             enable_early_stopping=True,\n",
        "                             n_cross_validations=\"auto\",\n",
        "                             forecasting_parameters=forecasting_parameters)\n"
      ]
    },
    {
      "cell_type": "markdown",
      "metadata": {
        "nteract": {
          "transient": {
            "deleting": false
          }
        }
      },
      "source": [
        "## Create AutoML step"
      ]
    },
    {
      "cell_type": "code",
      "execution_count": 14,
      "metadata": {
        "gather": {
          "logged": 1693892436885
        },
        "jupyter": {
          "outputs_hidden": false,
          "source_hidden": false
        },
        "nteract": {
          "transient": {
            "deleting": false
          }
        }
      },
      "outputs": [],
      "source": [
        "# Create an AutoML step\n",
        "automl_step = AutoMLStep(name='automl_module',\n",
        "                         automl_config=automl_config,\n",
        "                         outputs=[],\n",
        "                         allow_reuse=True)"
      ]
    },
    {
      "cell_type": "markdown",
      "metadata": {
        "nteract": {
          "transient": {
            "deleting": false
          }
        }
      },
      "source": [
        "## Create and submit pipeline"
      ]
    },
    {
      "cell_type": "code",
      "execution_count": 15,
      "metadata": {
        "gather": {
          "logged": 1693892445928
        },
        "jupyter": {
          "outputs_hidden": false,
          "source_hidden": false
        },
        "nteract": {
          "transient": {
            "deleting": false
          }
        }
      },
      "outputs": [
        {
          "name": "stdout",
          "output_type": "stream",
          "text": [
            "Created step automl_module [f7fa8272][8208f47b-9ec0-413b-8404-0e711f9521de], (This step will run and generate new outputs)\n",
            "Submitted PipelineRun 9d92982a-e14d-4f87-9b40-a9e4b64851c1\n",
            "Link to Azure Machine Learning Portal: https://ml.azure.com/runs/9d92982a-e14d-4f87-9b40-a9e4b64851c1?wsid=/subscriptions/543aa660-8160-4b15-bee0-60ad9536dae6/resourcegroups/demoaml/workspaces/demoaml&tid=cac48661-42c6-4b49-9bc5-7a90afc64f04\n"
          ]
        }
      ],
      "source": [
        "# Define the pipeline\n",
        "pipeline = Pipeline(workspace=workspace, steps=[automl_step])\n",
        "\n",
        "# Submit the pipeline run\n",
        "pipeline_run = experiment.submit(pipeline)\n",
        "# pipeline_run.wait_for_completion(show_output=True)"
      ]
    },
    {
      "cell_type": "markdown",
      "metadata": {
        "nteract": {
          "transient": {
            "deleting": false
          }
        }
      },
      "source": [
        "## Inference"
      ]
    },
    {
      "cell_type": "code",
      "execution_count": 16,
      "metadata": {
        "gather": {
          "logged": 1693892474856
        },
        "jupyter": {
          "outputs_hidden": false,
          "source_hidden": false
        },
        "nteract": {
          "transient": {
            "deleting": false
          }
        }
      },
      "outputs": [],
      "source": [
        "# Prepare inference data\n",
        "inference_data = base_df[base_df.index>=\"2023-07-01 00:00:00\"]\n",
        "inference_data = inference_data[inference_data.index<\"2023-07-02 00:00:00\"]\n",
        "inference_data[\"DateTime\"] = inference_data.index"
      ]
    },
    {
      "cell_type": "code",
      "execution_count": 17,
      "metadata": {
        "gather": {
          "logged": 1693892493888
        },
        "jupyter": {
          "outputs_hidden": false,
          "source_hidden": false
        },
        "nteract": {
          "transient": {
            "deleting": false
          }
        }
      },
      "outputs": [],
      "source": [
        "from azureml.train.automl.run import AutoMLRun\n",
        "automl_run = AutoMLRun(experiment=workspace.experiments['timeseries_automl_experiment'], run_id='c12732a1-4163-4261-8c97-0d402036261f')"
      ]
    },
    {
      "cell_type": "code",
      "execution_count": 20,
      "metadata": {
        "gather": {
          "logged": 1693892617230
        },
        "jupyter": {
          "outputs_hidden": false,
          "source_hidden": false
        },
        "nteract": {
          "transient": {
            "deleting": false
          }
        }
      },
      "outputs": [
        {
          "name": "stderr",
          "output_type": "stream",
          "text": [
            "WARNING:root:The version of the SDK does not match the version the model was trained on.\n",
            "WARNING:root:The consistency in the result may not be guaranteed.\n",
            "WARNING:root:Package:azureml-automl-core, training version:1.52.0.post1, current version:1.51.0.post1\n",
            "Package:azureml-automl-runtime, training version:1.52.0.post1, current version:1.51.0.post1\n",
            "Package:azureml-core, training version:1.52.0, current version:1.51.0\n",
            "Package:azureml-dataprep, training version:4.11.4, current version:4.10.8\n",
            "Package:azureml-dataprep-rslex, training version:2.18.4, current version:2.17.12\n",
            "Package:azureml-dataset-runtime, training version:1.52.0, current version:1.51.0\n",
            "Package:azureml-defaults, training version:1.52.0, current version:1.51.0\n",
            "Package:azureml-interpret, training version:1.52.0, current version:1.51.0\n",
            "Package:azureml-mlflow, training version:1.52.0, current version:1.51.0\n",
            "Package:azureml-pipeline-core, training version:1.52.0, current version:1.51.0\n",
            "Package:azureml-responsibleai, training version:1.52.0, current version:1.51.0\n",
            "Package:azureml-telemetry, training version:1.52.0, current version:1.51.0\n",
            "Package:azureml-train-automl-client, training version:1.52.0, current version:1.51.0.post1\n",
            "Package:azureml-train-automl-runtime, training version:1.52.0, current version:1.51.0.post2\n",
            "Package:azureml-train-core, training version:1.52.0, current version:1.51.0\n",
            "Package:azureml-train-restclients-hyperdrive, training version:1.52.0, current version:1.51.0\n",
            "Package:azureml-training-tabular, training version:1.52.0, current version:1.51.0.post1\n",
            "WARNING:root:Please ensure the version of your local conda dependencies match the version on which your model was trained in order to properly retrieve your model.\n"
          ]
        }
      ],
      "source": [
        "all_models,fitted_model = automl_run.get_output()"
      ]
    },
    {
      "cell_type": "code",
      "execution_count": 21,
      "metadata": {
        "gather": {
          "logged": 1693892622382
        },
        "jupyter": {
          "outputs_hidden": false,
          "source_hidden": false
        },
        "nteract": {
          "transient": {
            "deleting": false
          }
        }
      },
      "outputs": [
        {
          "data": {
            "text/html": [
              "<table style=\"width:100%\"><tr><th>Experiment</th><th>Id</th><th>Type</th><th>Status</th><th>Details Page</th><th>Docs Page</th></tr><tr><td>timeseries_automl_experiment</td><td>c12732a1-4163-4261-8c97-0d402036261f_8</td><td>azureml.scriptrun</td><td>Completed</td><td><a href=\"https://ml.azure.com/runs/c12732a1-4163-4261-8c97-0d402036261f_8?wsid=/subscriptions/543aa660-8160-4b15-bee0-60ad9536dae6/resourcegroups/demoaml/workspaces/demoaml&amp;tid=cac48661-42c6-4b49-9bc5-7a90afc64f04\" target=\"_blank\" rel=\"noopener\">Link to Azure Machine Learning studio</a></td><td><a href=\"https://docs.microsoft.com/en-us/python/api/azureml-core/azureml.core.run.Run?view=azure-ml-py\" target=\"_blank\" rel=\"noopener\">Link to Documentation</a></td></tr></table>"
            ],
            "text/plain": [
              "Run(Experiment: timeseries_automl_experiment,\n",
              "Id: c12732a1-4163-4261-8c97-0d402036261f_8,\n",
              "Type: azureml.scriptrun,\n",
              "Status: Completed)"
            ]
          },
          "execution_count": 21,
          "metadata": {},
          "output_type": "execute_result"
        }
      ],
      "source": [
        "all_models"
      ]
    },
    {
      "cell_type": "code",
      "execution_count": 18,
      "metadata": {
        "gather": {
          "logged": 1693892540778
        },
        "jupyter": {
          "outputs_hidden": false,
          "source_hidden": false
        },
        "nteract": {
          "transient": {
            "deleting": false
          }
        }
      },
      "outputs": [
        {
          "name": "stderr",
          "output_type": "stream",
          "text": [
            "WARNING:root:The version of the SDK does not match the version the model was trained on.\n",
            "WARNING:root:The consistency in the result may not be guaranteed.\n",
            "WARNING:root:Package:azureml-automl-core, training version:1.52.0.post1, current version:1.51.0.post1\n",
            "Package:azureml-automl-runtime, training version:1.52.0.post1, current version:1.51.0.post1\n",
            "Package:azureml-core, training version:1.52.0, current version:1.51.0\n",
            "Package:azureml-dataprep, training version:4.11.4, current version:4.10.8\n",
            "Package:azureml-dataprep-rslex, training version:2.18.4, current version:2.17.12\n",
            "Package:azureml-dataset-runtime, training version:1.52.0, current version:1.51.0\n",
            "Package:azureml-defaults, training version:1.52.0, current version:1.51.0\n",
            "Package:azureml-interpret, training version:1.52.0, current version:1.51.0\n",
            "Package:azureml-mlflow, training version:1.52.0, current version:1.51.0\n",
            "Package:azureml-pipeline-core, training version:1.52.0, current version:1.51.0\n",
            "Package:azureml-responsibleai, training version:1.52.0, current version:1.51.0\n",
            "Package:azureml-telemetry, training version:1.52.0, current version:1.51.0\n",
            "Package:azureml-train-automl-client, training version:1.52.0, current version:1.51.0.post1\n",
            "Package:azureml-train-automl-runtime, training version:1.52.0, current version:1.51.0.post2\n",
            "Package:azureml-train-core, training version:1.52.0, current version:1.51.0\n",
            "Package:azureml-train-restclients-hyperdrive, training version:1.52.0, current version:1.51.0\n",
            "Package:azureml-training-tabular, training version:1.52.0, current version:1.51.0.post1\n",
            "WARNING:root:Please ensure the version of your local conda dependencies match the version on which your model was trained in order to properly retrieve your model.\n"
          ]
        }
      ],
      "source": [
        "# Extract metrics and model\n",
        "_,fitted_model = automl_run.get_output()\n",
        "\n",
        "# Perform forecasts\n",
        "y_pred, xy = fitted_model.forecast(inference_data)"
      ]
    },
    {
      "cell_type": "code",
      "execution_count": 19,
      "metadata": {
        "gather": {
          "logged": 1693892541374
        },
        "jupyter": {
          "outputs_hidden": false,
          "source_hidden": false
        },
        "nteract": {
          "transient": {
            "deleting": false
          }
        }
      },
      "outputs": [
        {
          "data": {
            "text/plain": [
              "24"
            ]
          },
          "execution_count": 19,
          "metadata": {},
          "output_type": "execute_result"
        }
      ],
      "source": [
        "len(y_pred)"
      ]
    },
    {
      "cell_type": "code",
      "execution_count": 70,
      "metadata": {
        "gather": {
          "logged": 1689660585414
        },
        "jupyter": {
          "outputs_hidden": false,
          "source_hidden": false
        },
        "nteract": {
          "transient": {
            "deleting": false
          }
        }
      },
      "outputs": [
        {
          "data": {
            "text/html": [
              "<div>\n",
              "<style scoped>\n",
              "    .dataframe tbody tr th:only-of-type {\n",
              "        vertical-align: middle;\n",
              "    }\n",
              "\n",
              "    .dataframe tbody tr th {\n",
              "        vertical-align: top;\n",
              "    }\n",
              "\n",
              "    .dataframe thead th {\n",
              "        text-align: right;\n",
              "    }\n",
              "</style>\n",
              "<table border=\"1\" class=\"dataframe\">\n",
              "  <thead>\n",
              "    <tr style=\"text-align: right;\">\n",
              "      <th></th>\n",
              "      <th></th>\n",
              "      <th>hist_WindSpeed10m</th>\n",
              "      <th>solcast_forecast_windSpeed</th>\n",
              "      <th>_automl_target_col</th>\n",
              "    </tr>\n",
              "    <tr>\n",
              "      <th>DateTime</th>\n",
              "      <th>_automl_dummy_grain_col</th>\n",
              "      <th></th>\n",
              "      <th></th>\n",
              "      <th></th>\n",
              "    </tr>\n",
              "  </thead>\n",
              "  <tbody>\n",
              "    <tr>\n",
              "      <th>2023-07-01 00:00:00</th>\n",
              "      <th>_automl_dummy_grain_col</th>\n",
              "      <td>2.80</td>\n",
              "      <td>2.93</td>\n",
              "      <td>6.56</td>\n",
              "    </tr>\n",
              "    <tr>\n",
              "      <th>2023-07-01 01:00:00</th>\n",
              "      <th>_automl_dummy_grain_col</th>\n",
              "      <td>3.20</td>\n",
              "      <td>2.67</td>\n",
              "      <td>0.22</td>\n",
              "    </tr>\n",
              "    <tr>\n",
              "      <th>2023-07-01 02:00:00</th>\n",
              "      <th>_automl_dummy_grain_col</th>\n",
              "      <td>3.60</td>\n",
              "      <td>2.43</td>\n",
              "      <td>-2.61</td>\n",
              "    </tr>\n",
              "    <tr>\n",
              "      <th>2023-07-01 03:00:00</th>\n",
              "      <th>_automl_dummy_grain_col</th>\n",
              "      <td>3.50</td>\n",
              "      <td>2.24</td>\n",
              "      <td>-0.26</td>\n",
              "    </tr>\n",
              "    <tr>\n",
              "      <th>2023-07-01 04:00:00</th>\n",
              "      <th>_automl_dummy_grain_col</th>\n",
              "      <td>3.10</td>\n",
              "      <td>2.27</td>\n",
              "      <td>2.52</td>\n",
              "    </tr>\n",
              "    <tr>\n",
              "      <th>2023-07-01 05:00:00</th>\n",
              "      <th>_automl_dummy_grain_col</th>\n",
              "      <td>2.80</td>\n",
              "      <td>2.54</td>\n",
              "      <td>12.71</td>\n",
              "    </tr>\n",
              "    <tr>\n",
              "      <th>2023-07-01 06:00:00</th>\n",
              "      <th>_automl_dummy_grain_col</th>\n",
              "      <td>2.50</td>\n",
              "      <td>2.82</td>\n",
              "      <td>14.08</td>\n",
              "    </tr>\n",
              "    <tr>\n",
              "      <th>2023-07-01 07:00:00</th>\n",
              "      <th>_automl_dummy_grain_col</th>\n",
              "      <td>2.40</td>\n",
              "      <td>3.02</td>\n",
              "      <td>19.91</td>\n",
              "    </tr>\n",
              "    <tr>\n",
              "      <th>2023-07-01 08:00:00</th>\n",
              "      <th>_automl_dummy_grain_col</th>\n",
              "      <td>2.20</td>\n",
              "      <td>3.20</td>\n",
              "      <td>43.85</td>\n",
              "    </tr>\n",
              "    <tr>\n",
              "      <th>2023-07-01 09:00:00</th>\n",
              "      <th>_automl_dummy_grain_col</th>\n",
              "      <td>2.10</td>\n",
              "      <td>3.32</td>\n",
              "      <td>38.92</td>\n",
              "    </tr>\n",
              "    <tr>\n",
              "      <th>2023-07-01 10:00:00</th>\n",
              "      <th>_automl_dummy_grain_col</th>\n",
              "      <td>2.20</td>\n",
              "      <td>3.29</td>\n",
              "      <td>23.31</td>\n",
              "    </tr>\n",
              "    <tr>\n",
              "      <th>2023-07-01 11:00:00</th>\n",
              "      <th>_automl_dummy_grain_col</th>\n",
              "      <td>2.40</td>\n",
              "      <td>3.07</td>\n",
              "      <td>14.71</td>\n",
              "    </tr>\n",
              "    <tr>\n",
              "      <th>2023-07-01 12:00:00</th>\n",
              "      <th>_automl_dummy_grain_col</th>\n",
              "      <td>2.80</td>\n",
              "      <td>3.13</td>\n",
              "      <td>20.46</td>\n",
              "    </tr>\n",
              "    <tr>\n",
              "      <th>2023-07-01 13:00:00</th>\n",
              "      <th>_automl_dummy_grain_col</th>\n",
              "      <td>3.30</td>\n",
              "      <td>3.21</td>\n",
              "      <td>21.08</td>\n",
              "    </tr>\n",
              "    <tr>\n",
              "      <th>2023-07-01 14:00:00</th>\n",
              "      <th>_automl_dummy_grain_col</th>\n",
              "      <td>3.80</td>\n",
              "      <td>2.90</td>\n",
              "      <td>9.13</td>\n",
              "    </tr>\n",
              "    <tr>\n",
              "      <th>2023-07-01 15:00:00</th>\n",
              "      <th>_automl_dummy_grain_col</th>\n",
              "      <td>4.00</td>\n",
              "      <td>2.58</td>\n",
              "      <td>14.56</td>\n",
              "    </tr>\n",
              "    <tr>\n",
              "      <th>2023-07-01 16:00:00</th>\n",
              "      <th>_automl_dummy_grain_col</th>\n",
              "      <td>3.90</td>\n",
              "      <td>2.32</td>\n",
              "      <td>12.85</td>\n",
              "    </tr>\n",
              "    <tr>\n",
              "      <th>2023-07-01 17:00:00</th>\n",
              "      <th>_automl_dummy_grain_col</th>\n",
              "      <td>3.90</td>\n",
              "      <td>2.15</td>\n",
              "      <td>12.08</td>\n",
              "    </tr>\n",
              "    <tr>\n",
              "      <th>2023-07-01 18:00:00</th>\n",
              "      <th>_automl_dummy_grain_col</th>\n",
              "      <td>3.80</td>\n",
              "      <td>1.82</td>\n",
              "      <td>4.78</td>\n",
              "    </tr>\n",
              "    <tr>\n",
              "      <th>2023-07-01 19:00:00</th>\n",
              "      <th>_automl_dummy_grain_col</th>\n",
              "      <td>3.50</td>\n",
              "      <td>1.45</td>\n",
              "      <td>1.21</td>\n",
              "    </tr>\n",
              "    <tr>\n",
              "      <th>2023-07-01 20:00:00</th>\n",
              "      <th>_automl_dummy_grain_col</th>\n",
              "      <td>3.20</td>\n",
              "      <td>1.23</td>\n",
              "      <td>4.47</td>\n",
              "    </tr>\n",
              "    <tr>\n",
              "      <th>2023-07-01 21:00:00</th>\n",
              "      <th>_automl_dummy_grain_col</th>\n",
              "      <td>2.90</td>\n",
              "      <td>1.14</td>\n",
              "      <td>5.54</td>\n",
              "    </tr>\n",
              "    <tr>\n",
              "      <th>2023-07-01 22:00:00</th>\n",
              "      <th>_automl_dummy_grain_col</th>\n",
              "      <td>2.50</td>\n",
              "      <td>1.41</td>\n",
              "      <td>2.84</td>\n",
              "    </tr>\n",
              "    <tr>\n",
              "      <th>2023-07-01 23:00:00</th>\n",
              "      <th>_automl_dummy_grain_col</th>\n",
              "      <td>2.00</td>\n",
              "      <td>2.09</td>\n",
              "      <td>4.62</td>\n",
              "    </tr>\n",
              "  </tbody>\n",
              "</table>\n",
              "</div>"
            ],
            "text/plain": [
              "                                             hist_WindSpeed10m  \\\n",
              "DateTime            _automl_dummy_grain_col                      \n",
              "2023-07-01 00:00:00 _automl_dummy_grain_col               2.80   \n",
              "2023-07-01 01:00:00 _automl_dummy_grain_col               3.20   \n",
              "2023-07-01 02:00:00 _automl_dummy_grain_col               3.60   \n",
              "2023-07-01 03:00:00 _automl_dummy_grain_col               3.50   \n",
              "2023-07-01 04:00:00 _automl_dummy_grain_col               3.10   \n",
              "2023-07-01 05:00:00 _automl_dummy_grain_col               2.80   \n",
              "2023-07-01 06:00:00 _automl_dummy_grain_col               2.50   \n",
              "2023-07-01 07:00:00 _automl_dummy_grain_col               2.40   \n",
              "2023-07-01 08:00:00 _automl_dummy_grain_col               2.20   \n",
              "2023-07-01 09:00:00 _automl_dummy_grain_col               2.10   \n",
              "2023-07-01 10:00:00 _automl_dummy_grain_col               2.20   \n",
              "2023-07-01 11:00:00 _automl_dummy_grain_col               2.40   \n",
              "2023-07-01 12:00:00 _automl_dummy_grain_col               2.80   \n",
              "2023-07-01 13:00:00 _automl_dummy_grain_col               3.30   \n",
              "2023-07-01 14:00:00 _automl_dummy_grain_col               3.80   \n",
              "2023-07-01 15:00:00 _automl_dummy_grain_col               4.00   \n",
              "2023-07-01 16:00:00 _automl_dummy_grain_col               3.90   \n",
              "2023-07-01 17:00:00 _automl_dummy_grain_col               3.90   \n",
              "2023-07-01 18:00:00 _automl_dummy_grain_col               3.80   \n",
              "2023-07-01 19:00:00 _automl_dummy_grain_col               3.50   \n",
              "2023-07-01 20:00:00 _automl_dummy_grain_col               3.20   \n",
              "2023-07-01 21:00:00 _automl_dummy_grain_col               2.90   \n",
              "2023-07-01 22:00:00 _automl_dummy_grain_col               2.50   \n",
              "2023-07-01 23:00:00 _automl_dummy_grain_col               2.00   \n",
              "\n",
              "                                             solcast_forecast_windSpeed  \\\n",
              "DateTime            _automl_dummy_grain_col                               \n",
              "2023-07-01 00:00:00 _automl_dummy_grain_col                        2.93   \n",
              "2023-07-01 01:00:00 _automl_dummy_grain_col                        2.67   \n",
              "2023-07-01 02:00:00 _automl_dummy_grain_col                        2.43   \n",
              "2023-07-01 03:00:00 _automl_dummy_grain_col                        2.24   \n",
              "2023-07-01 04:00:00 _automl_dummy_grain_col                        2.27   \n",
              "2023-07-01 05:00:00 _automl_dummy_grain_col                        2.54   \n",
              "2023-07-01 06:00:00 _automl_dummy_grain_col                        2.82   \n",
              "2023-07-01 07:00:00 _automl_dummy_grain_col                        3.02   \n",
              "2023-07-01 08:00:00 _automl_dummy_grain_col                        3.20   \n",
              "2023-07-01 09:00:00 _automl_dummy_grain_col                        3.32   \n",
              "2023-07-01 10:00:00 _automl_dummy_grain_col                        3.29   \n",
              "2023-07-01 11:00:00 _automl_dummy_grain_col                        3.07   \n",
              "2023-07-01 12:00:00 _automl_dummy_grain_col                        3.13   \n",
              "2023-07-01 13:00:00 _automl_dummy_grain_col                        3.21   \n",
              "2023-07-01 14:00:00 _automl_dummy_grain_col                        2.90   \n",
              "2023-07-01 15:00:00 _automl_dummy_grain_col                        2.58   \n",
              "2023-07-01 16:00:00 _automl_dummy_grain_col                        2.32   \n",
              "2023-07-01 17:00:00 _automl_dummy_grain_col                        2.15   \n",
              "2023-07-01 18:00:00 _automl_dummy_grain_col                        1.82   \n",
              "2023-07-01 19:00:00 _automl_dummy_grain_col                        1.45   \n",
              "2023-07-01 20:00:00 _automl_dummy_grain_col                        1.23   \n",
              "2023-07-01 21:00:00 _automl_dummy_grain_col                        1.14   \n",
              "2023-07-01 22:00:00 _automl_dummy_grain_col                        1.41   \n",
              "2023-07-01 23:00:00 _automl_dummy_grain_col                        2.09   \n",
              "\n",
              "                                             _automl_target_col  \n",
              "DateTime            _automl_dummy_grain_col                      \n",
              "2023-07-01 00:00:00 _automl_dummy_grain_col                6.56  \n",
              "2023-07-01 01:00:00 _automl_dummy_grain_col                0.22  \n",
              "2023-07-01 02:00:00 _automl_dummy_grain_col               -2.61  \n",
              "2023-07-01 03:00:00 _automl_dummy_grain_col               -0.26  \n",
              "2023-07-01 04:00:00 _automl_dummy_grain_col                2.52  \n",
              "2023-07-01 05:00:00 _automl_dummy_grain_col               12.71  \n",
              "2023-07-01 06:00:00 _automl_dummy_grain_col               14.08  \n",
              "2023-07-01 07:00:00 _automl_dummy_grain_col               19.91  \n",
              "2023-07-01 08:00:00 _automl_dummy_grain_col               43.85  \n",
              "2023-07-01 09:00:00 _automl_dummy_grain_col               38.92  \n",
              "2023-07-01 10:00:00 _automl_dummy_grain_col               23.31  \n",
              "2023-07-01 11:00:00 _automl_dummy_grain_col               14.71  \n",
              "2023-07-01 12:00:00 _automl_dummy_grain_col               20.46  \n",
              "2023-07-01 13:00:00 _automl_dummy_grain_col               21.08  \n",
              "2023-07-01 14:00:00 _automl_dummy_grain_col                9.13  \n",
              "2023-07-01 15:00:00 _automl_dummy_grain_col               14.56  \n",
              "2023-07-01 16:00:00 _automl_dummy_grain_col               12.85  \n",
              "2023-07-01 17:00:00 _automl_dummy_grain_col               12.08  \n",
              "2023-07-01 18:00:00 _automl_dummy_grain_col                4.78  \n",
              "2023-07-01 19:00:00 _automl_dummy_grain_col                1.21  \n",
              "2023-07-01 20:00:00 _automl_dummy_grain_col                4.47  \n",
              "2023-07-01 21:00:00 _automl_dummy_grain_col                5.54  \n",
              "2023-07-01 22:00:00 _automl_dummy_grain_col                2.84  \n",
              "2023-07-01 23:00:00 _automl_dummy_grain_col                4.62  "
            ]
          },
          "execution_count": 70,
          "metadata": {},
          "output_type": "execute_result"
        }
      ],
      "source": [
        "xy[[\"hist_WindSpeed10m\",\"solcast_forecast_windSpeed\",\"_automl_target_col\"]]"
      ]
    },
    {
      "cell_type": "code",
      "execution_count": null,
      "metadata": {
        "jupyter": {
          "outputs_hidden": false,
          "source_hidden": false
        },
        "nteract": {
          "transient": {
            "deleting": false
          }
        }
      },
      "outputs": [],
      "source": [
        "#  helo below are the changes suggested by vishnu\n",
        "# do the needful "
      ]
    }
  ],
  "metadata": {
    "kernel_info": {
      "name": "python38-azureml"
    },
    "kernelspec": {
      "display_name": "Python 3.8 - AzureML",
      "language": "python",
      "name": "python38-azureml"
    },
    "language_info": {
      "codemirror_mode": {
        "name": "ipython",
        "version": 3
      },
      "file_extension": ".py",
      "mimetype": "text/x-python",
      "name": "python",
      "nbconvert_exporter": "python",
      "pygments_lexer": "ipython3",
      "version": "3.8.5"
    },
    "microsoft": {
      "host": {
        "AzureML": {
          "notebookHasBeenCompleted": true
        }
      },
      "ms_spell_check": {
        "ms_spell_check_language": "en"
      }
    },
    "nteract": {
      "version": "nteract-front-end@1.0.0"
    }
  },
  "nbformat": 4,
  "nbformat_minor": 2
}
